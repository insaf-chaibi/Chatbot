{
 "cells": [
  {
   "cell_type": "code",
   "execution_count": 1,
   "id": "74bbdad9",
   "metadata": {},
   "outputs": [],
   "source": [
    "import pandas as pd\n",
    "import numpy as np\n",
    "import joblib\n",
    "import sklearn.tree._tree \n",
    "from sklearn.tree import DecisionTreeClassifier\n",
    "from sklearn import tree\n"
   ]
  },
  {
   "cell_type": "code",
   "execution_count": 2,
   "id": "73ff2968",
   "metadata": {},
   "outputs": [],
   "source": [
    "data=pd.read_csv(r\"dataset.csv\")\n",
    "data=data.iloc[:,1:]"
   ]
  },
  {
   "cell_type": "code",
   "execution_count": 6,
   "id": "45681123",
   "metadata": {},
   "outputs": [
    {
     "name": "stdout",
     "output_type": "stream",
     "text": [
      "The diagnosis is Leptospirosis and it's moderate-severe.\n"
     ]
    }
   ],
   "source": [
    "Disease_model = joblib.load(\"treatment_model.joblib\")\n",
    "Severity_model = joblib.load(\"severity_model.joblib\")\n",
    "\n",
    "def chatbot_decision_tree():\n",
    "\n",
    "    disease_tree = Disease_model.tree_\n",
    "    severity_tree = Severity_model.tree_\n",
    "    feature_names = data.columns[:-2]\n",
    "    disease_node = severity_node = 0\n",
    "    \n",
    "    while disease_tree.children_left[disease_node] != -1:\n",
    "        feature = disease_tree.feature[disease_node]\n",
    "        feature_name = feature_names[feature]\n",
    "        threshold = disease_tree.threshold[disease_node]\n",
    "        value = input(f\"Does the dog have {feature_name}? (yes/no) \")\n",
    "        if value.lower() == 'yes':\n",
    "            disease_node = disease_tree.children_right[disease_node]\n",
    "        elif value.lower() == 'no':\n",
    "            disease_node = disease_tree.children_left[disease_node]\n",
    "        else:\n",
    "            print(\"Invalid input. Please answer with 'yes' or 'no'.\")\n",
    "            continue\n",
    "            \n",
    "        severity_feature = severity_tree.feature[severity_node]\n",
    "        severity_threshold = severity_tree.threshold[severity_node]\n",
    "        if severity_feature == feature:\n",
    "            if value.lower() == 'yes':\n",
    "                severity_node = severity_tree.children_right[severity_node]\n",
    "            elif value.lower() == 'no':\n",
    "                severity_node = severity_tree.children_left[severity_node]\n",
    "            else:\n",
    "                print(\"Invalid input. Please answer with 'yes' or 'no'.\")\n",
    "                continue\n",
    "                \n",
    "    disease = Disease_model.classes_[disease_tree.value[disease_node].argmax()]\n",
    "    severity = Severity_model.classes_[severity_tree.value[severity_node].argmax()]\n",
    "\n",
    "    print(f\"The diagnosis is {disease} and it's {severity}.\\nPlease consult a vet for further evaluation.\")\n",
    "chatbot_decision_tree()"
   ]
  }
 ],
 "metadata": {
  "kernelspec": {
   "display_name": "Python 3 (ipykernel)",
   "language": "python",
   "name": "python3"
  },
  "language_info": {
   "codemirror_mode": {
    "name": "ipython",
    "version": 3
   },
   "file_extension": ".py",
   "mimetype": "text/x-python",
   "name": "python",
   "nbconvert_exporter": "python",
   "pygments_lexer": "ipython3",
   "version": "3.9.13"
  }
 },
 "nbformat": 4,
 "nbformat_minor": 5
}
