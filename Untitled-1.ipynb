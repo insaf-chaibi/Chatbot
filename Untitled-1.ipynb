{
 "cells": [
  {
   "cell_type": "code",
   "execution_count": 8,
   "metadata": {},
   "outputs": [],
   "source": [
    "import pandas as pd\n",
    "import numpy as np\n",
    "from sklearn.tree import DecisionTreeClassifier\n",
    "from sklearn.model_selection import train_test_split\n",
    "from sklearn.metrics import accuracy_score\n",
    "import joblib\n",
    "from sklearn import tree\n",
    "from sklearn.metrics import classification_report\n",
    "import sklearn.tree._tree \n",
    "from sklearn import tree\n"
   ]
  },
  {
   "cell_type": "code",
   "execution_count": 2,
   "metadata": {},
   "outputs": [
    {
     "name": "stdout",
     "output_type": "stream",
     "text": [
      "Index(['Vomiting', 'Diarrhea', 'Fever', 'Lathargy', 'Loss of appetite',\n",
      "       'Bloody Diarrhea', 'Coughing', 'Sneezing', 'Discharge from eye',\n",
      "       'Discharge from nose', 'Seizures', 'Paralysis', 'Twitching',\n",
      "       'Dehydration', 'Depression', 'Dry Hacking cough', 'Retching',\n",
      "       'Nasal Discharge', 'Increased thirst and urination', 'Abdominal Pain',\n",
      "       'Muscle Pain', 'Jaundice', 'Difficulty Breathing', 'Joint Pain ',\n",
      "       'Lameness', 'Sensitivity to Touch', 'Weight loss', 'Fainting',\n",
      "       'Exercise Intolerance', 'Flatulence', 'Behavioral changes',\n",
      "       'Excessive Drooling', 'Coma', 'Difficulty swallwing', 'Restlessness',\n",
      "       'Muscle Tremors', 'Unusual Vocalizations', 'Snapping', 'Weight Gain',\n",
      "       'Difficulty Exercising', 'Swelling', 'Skin Problems',\n",
      "       'Excessive Hunger', 'Painting'],\n",
      "      dtype='object')\n"
     ]
    }
   ],
   "source": [
    "# Load the dog diseases dataset\n",
    "df1 = pd.read_csv(\"dataset2.csv\")\n",
    "\n",
    "# Define the input features (symptoms) and target variable (disease)\n",
    "df = df1.iloc[:,1:-1]\n",
    "symptoms = df.columns\n",
    "#disease = df1['Disease name']\n",
    "dis_sev = df1['Disease severity']\n",
    "\n",
    "# Split the dataset into training and testing sets\n",
    "X_train, X_test, y_sev_train, y_sev_test = train_test_split(df[symptoms], dis_sev, test_size=0.3, random_state=42)\n",
    "print(X_train.columns)"
   ]
  },
  {
   "cell_type": "code",
   "execution_count": 43,
   "metadata": {},
   "outputs": [
    {
     "data": {
      "text/plain": [
       "DecisionTreeClassifier()"
      ]
     },
     "execution_count": 43,
     "metadata": {},
     "output_type": "execute_result"
    }
   ],
   "source": [
    "# Train a decision tree model for disease prediction\n",
    "dis_tree = DecisionTreeClassifier()\n",
    "dis_tree.fit(X_train, y_dis_train)"
   ]
  },
  {
   "cell_type": "code",
   "execution_count": 3,
   "metadata": {},
   "outputs": [
    {
     "data": {
      "text/plain": [
       "DecisionTreeClassifier()"
      ]
     },
     "execution_count": 3,
     "metadata": {},
     "output_type": "execute_result"
    }
   ],
   "source": [
    "sev_tree = DecisionTreeClassifier()\n",
    "sev_tree.fit(X_train, y_sev_train)"
   ]
  },
  {
   "cell_type": "code",
   "execution_count": 4,
   "metadata": {},
   "outputs": [
    {
     "name": "stdout",
     "output_type": "stream",
     "text": [
      "Severity prediction accuracy: 0.9655172413793104\n"
     ]
    }
   ],
   "source": [
    "# Make predictions on the test set\n",
    "y_sev_pred = sev_tree.predict(X_test)\n",
    "#y_dis_pred = dis_tree.predict(X_test)\n",
    "\n",
    "# Evaluate the accuracy of the models\n",
    "sev_accuracy = accuracy_score(y_sev_test, y_sev_pred)\n",
    "#dis_accuracy = accuracy_score(y_dis_test, y_dis_pred)\n",
    "\n",
    "#print(\"Disease prediction accuracy:\", dis_accuracy)\n",
    "print(\"Severity prediction accuracy:\", sev_accuracy)\n"
   ]
  },
  {
   "cell_type": "code",
   "execution_count": 5,
   "metadata": {},
   "outputs": [
    {
     "name": "stdout",
     "output_type": "stream",
     "text": [
      "Confusion matrix of severity : \n",
      " [[5 0 0 0 0 0 0 0 0 0]\n",
      " [0 2 0 0 0 0 0 0 0 0]\n",
      " [0 0 2 0 0 0 0 0 0 0]\n",
      " [0 0 1 4 0 0 0 0 0 0]\n",
      " [0 0 0 0 2 0 0 0 0 0]\n",
      " [0 0 0 0 0 2 0 0 0 0]\n",
      " [0 0 0 0 0 0 7 0 0 0]\n",
      " [0 0 0 0 0 0 0 1 0 0]\n",
      " [0 0 0 0 0 0 0 0 1 0]\n",
      " [0 0 0 0 0 0 0 0 0 2]]\n"
     ]
    }
   ],
   "source": [
    "from sklearn.metrics import confusion_matrix\n",
    "#print(\"Confusion matrix of disease : \\n\",confusion_matrix(y_dis_test,y_dis_pred))\n",
    "print(\"Confusion matrix of severity : \\n\",confusion_matrix(y_sev_test,y_sev_pred))\n"
   ]
  },
  {
   "cell_type": "code",
   "execution_count": 6,
   "metadata": {},
   "outputs": [
    {
     "name": "stdout",
     "output_type": "stream",
     "text": [
      "Classification report of severity : \n",
      "                                       precision    recall  f1-score   support\n",
      "\n",
      "          Canine Destemper  : severe       1.00      1.00      1.00         5\n",
      "  Canine Infuenza  : moderate-severe       1.00      1.00      1.00         2\n",
      "         Canine Parvovirus  : severe       0.67      1.00      0.80         2\n",
      "                   Giardiasis : mild       1.00      0.80      0.89         5\n",
      "Heartworm Disease  : moderate-severe       1.00      1.00      1.00         2\n",
      "        Kennel Cough : mild-moderate       1.00      1.00      1.00         2\n",
      "    Leptospirosis  : moderate-severe       1.00      1.00      1.00         7\n",
      "     Lyme Disease  : moderate-severe       1.00      1.00      1.00         1\n",
      "  Mild gastrointestinal upset : mild       1.00      1.00      1.00         1\n",
      "                    Rabies  : severe       1.00      1.00      1.00         2\n",
      "\n",
      "                            accuracy                           0.97        29\n",
      "                           macro avg       0.97      0.98      0.97        29\n",
      "                        weighted avg       0.98      0.97      0.97        29\n",
      "\n"
     ]
    }
   ],
   "source": [
    "from sklearn.metrics import classification_report\n",
    "\n",
    "print(\"Classification report of severity : \\n\",classification_report(y_sev_test, y_sev_pred))\n",
    "#print(\"Classification report of disease : \\n\",classification_report(y_dis_test, y_dis_pred))\n"
   ]
  },
  {
   "cell_type": "code",
   "execution_count": 7,
   "metadata": {},
   "outputs": [
    {
     "data": {
      "text/plain": [
       "['model/severity_model.joblib']"
      ]
     },
     "execution_count": 7,
     "metadata": {},
     "output_type": "execute_result"
    }
   ],
   "source": [
    "# Save the trained models to disk\n",
    "joblib.dump(sev_tree, \"model/severity_model.joblib\")\n",
    "#joblib.dump(dis_tree, \"treatment_model.joblib\")"
   ]
  },
  {
   "cell_type": "code",
   "execution_count": 9,
   "metadata": {},
   "outputs": [],
   "source": [
    "data=pd.read_csv(r\"dataset2.csv\")\n",
    "data=data.iloc[:,1:]"
   ]
  },
  {
   "cell_type": "code",
   "execution_count": 12,
   "metadata": {},
   "outputs": [
    {
     "name": "stdout",
     "output_type": "stream",
     "text": [
      "Invalid input. Please answer with 'yes' or 'no'.\n",
      "Invalid input. Please answer with 'yes' or 'no'.\n",
      "Invalid input. Please answer with 'yes' or 'no'.\n",
      "Invalid input. Please answer with 'yes' or 'no'.\n"
     ]
    }
   ],
   "source": [
    "Severity_model = joblib.load(\"model/severity_model.joblib\")\n",
    "\n",
    "def chatbot_decision_tree():\n",
    "\n",
    "    severity_tree = Severity_model.tree_\n",
    "    feature_names = data.columns[:-1]\n",
    "    severity_node = 0\n",
    "    \n",
    "    while severity_tree.children_left[severity_node] != -1:\n",
    "        feature = severity_tree.feature[severity_node]\n",
    "        feature_name = feature_names[feature]\n",
    "        threshold = severity_tree.threshold[severity_node]\n",
    "        value = input(f\"Does the dog have {feature_name}? (yes/no) \")\n",
    "        if value.lower() == 'yes':\n",
    "            disease_node = severity_tree.children_right[severity_node]\n",
    "        elif value.lower() == 'no':\n",
    "            disease_node = severity_tree.children_left[severity_node]\n",
    "        else:\n",
    "            print(\"Invalid input. Please answer with 'yes' or 'no'.\")\n",
    "            continue\n",
    "                \n",
    "    severity = Severity_model.classes_[severity_tree.value[severity_node].argmax()]\n",
    "\n",
    "    print(f\"The diagnosis is {severity}.\\nPlease consult a vet for further evaluation.\")\n",
    "chatbot_decision_tree()"
   ]
  }
 ],
 "metadata": {
  "kernelspec": {
   "display_name": "base",
   "language": "python",
   "name": "python3"
  },
  "language_info": {
   "codemirror_mode": {
    "name": "ipython",
    "version": 3
   },
   "file_extension": ".py",
   "mimetype": "text/x-python",
   "name": "python",
   "nbconvert_exporter": "python",
   "pygments_lexer": "ipython3",
   "version": "3.9.13"
  },
  "orig_nbformat": 4
 },
 "nbformat": 4,
 "nbformat_minor": 2
}
